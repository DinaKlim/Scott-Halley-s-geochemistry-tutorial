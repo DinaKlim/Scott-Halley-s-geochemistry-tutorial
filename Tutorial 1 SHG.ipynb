# -*- coding: utf-8 -*-
"""
Created on Sun Aug  1 15:26:33 2021

@author: Dina
"""

# libraries
import pandas as pd
import numpy as np
import matplotlib.pylab as plt
import seaborn as sns
from pyrolite.plot import pyroplot
from sklearn.manifold import TSNE

# Dataset. In the Porphyry Cu Geochemistry Module1.xslx extra column of TiO2 was added
# to convert Ti, % into TiO2, %:
    # TiO2 = Ti_pct*79.866/47.867 (multiplied by TiO2 molar weight and divided by Ti molar weight)
    # file was saved as Module1.csv 
    
dataset = pd.read_csv('Module1.csv') # import data
df = pd.DataFrame(data=dataset)     # convert to dataframe

# workflow, page 12 of Porphyry Cu geochemistry tutorial 1 by Scott Halley
# Scandium; Immobile, Substitutes for Fe in silicate minerals.
# Plot Sc vs Ti, Th, V, Zr, P, Nb, Al, Cr

from pyrolite.util.plot.axes import share_axes

fig, ax = plt.subplots(1, 4, figsize=(13, 4))       # create a composite plot with 4 figures in one row
ax = ax.flat                                        # I have no clue what it is (rapid development by copy-paste from pyrolite)

contours = [0.95, 0.6, 0.3]  # set the density contours: cumulative 95%, 66%, 30% of points

bivar = ["Th_ppm", "Sc_ppm"] # first X, then Y: plotting Sc vs Th, we need to put Th first, Sc second

# linear-scaled comparison
df.loc[:, bivar].pyroplot.scatter(ax=ax[0], c="k", s=2, alpha=0.3) # c is the color scheme, s defines marker size, alpha would be 0 for transparent marker and 1 for opaque
df.loc[:, bivar].pyroplot.density(ax=ax[1])
df.loc[:, bivar].pyroplot.density(ax=ax[2], contours=contours)
df.loc[:, bivar].pyroplot.heatscatter(ax=ax[3], s=2, alpha=0.3)

titles = ["Scatter", "Density", "Contours", "Heatscatter"]
for t, a in zip(titles + [i + " (log-log)" for i in titles], ax):    # put headers on the diagrams - leaving this pyroplot cycle for future log-log plots
    a.set_title(t)
plt.tight_layout()
plt.savefig('Sc vs Th.jpg', dpi = 300)

# repeat for other elements

# Sc vs Ti

fig, ax = plt.subplots(1, 4, figsize=(13, 4))       
ax = ax.flat                                       

contours = [0.95, 0.8, 0.5, 0.3]  # set the density contours

bivar = ["Ti_pct", "Sc_ppm"] 

# linear-scaled comparison
df.loc[:, bivar].pyroplot.scatter(ax=ax[0], c="k", s=2, alpha=0.3)
df.loc[:, bivar].pyroplot.density(ax=ax[1])
df.loc[:, bivar].pyroplot.density(ax=ax[2], contours=contours)
df.loc[:, bivar].pyroplot.heatscatter(ax=ax[3], s=2, alpha=0.3)

titles = ["Scatter", "Density", "Contours", "Heatscatter"]
for t, a in zip(titles + [i + " (log-log)" for i in titles], ax):    
    a.set_title(t)
plt.tight_layout()
plt.savefig('Sc vs Ti.jpg', dpi = 300)

# Sc vs V

fig, ax = plt.subplots(1, 4, figsize=(13, 4))       
ax = ax.flat                                       

contours = [0.95, 0.6, 0.3]  # set the density contours

bivar = ["V_ppm", "Sc_ppm"] 

# linear-scaled comparison
df.loc[:, bivar].pyroplot.scatter(ax=ax[0], c="k", s=2, alpha=0.3)
df.loc[:, bivar].pyroplot.density(ax=ax[1])
df.loc[:, bivar].pyroplot.density(ax=ax[2], contours=contours)
df.loc[:, bivar].pyroplot.heatscatter(ax=ax[3], s=2, alpha=0.3)

titles = ["Scatter", "Density", "Contours", "Heatscatter"]
for t, a in zip(titles + [i + " (log-log)" for i in titles], ax):    
    a.set_title(t)
plt.tight_layout()
plt.savefig('Sc vs V.jpg', dpi = 300)

# Sc vs P

fig, ax = plt.subplots(1, 4, figsize=(13, 4))       
ax = ax.flat                                       

contours = [0.95, 0.6, 0.3]  # set the density contours

bivar = ["P_ppm", "Sc_ppm"] 

# linear-scaled comparison
df.loc[:, bivar].pyroplot.scatter(ax=ax[0], c="k", s=2, alpha=0.3)
df.loc[:, bivar].pyroplot.density(ax=ax[1])
df.loc[:, bivar].pyroplot.density(ax=ax[2], contours=contours)
df.loc[:, bivar].pyroplot.heatscatter(ax=ax[3], s=2, alpha=0.3)

titles = ["Scatter", "Density", "Contours", "Heatscatter"]
for t, a in zip(titles + [i + " (log-log)" for i in titles], ax):    
    a.set_title(t)
plt.tight_layout()
plt.savefig('Sc vs P.jpg', dpi = 300)

# Sc vs Nb

fig, ax = plt.subplots(1, 4, figsize=(13, 4))       
ax = ax.flat                                       

contours = [0.95, 0.6, 0.3]  # set the density contours

bivar = ["Nb_ppm", "Sc_ppm"] 

# linear-scaled comparison
df.loc[:, bivar].pyroplot.scatter(ax=ax[0], c="k", s=2, alpha=0.3)
df.loc[:, bivar].pyroplot.density(ax=ax[1])
df.loc[:, bivar].pyroplot.density(ax=ax[2], contours=contours)
df.loc[:, bivar].pyroplot.heatscatter(ax=ax[3], s=2, alpha=0.3)

titles = ["Scatter", "Density", "Contours", "Heatscatter"]
for t, a in zip(titles + [i + " (log-log)" for i in titles], ax):    
    a.set_title(t)
plt.tight_layout()
plt.savefig('Sc vs Nb.jpg', dpi = 300)

# Sc vs Cr

fig, ax = plt.subplots(1, 4, figsize=(13, 4))       
ax = ax.flat                                       

contours = [0.95, 0.6, 0.3]  # set the density contours

bivar = ["Cr_ppm", "Sc_ppm"] 

# linear-scaled comparison
df.loc[:, bivar].pyroplot.scatter(ax=ax[0], c="k", s=2, alpha=0.3)
df.loc[:, bivar].pyroplot.density(ax=ax[1])
df.loc[:, bivar].pyroplot.density(ax=ax[2], contours=contours)
df.loc[:, bivar].pyroplot.heatscatter(ax=ax[3], s=2, alpha=0.3)

titles = ["Scatter", "Density", "Contours", "Heatscatter"]
for t, a in zip(titles + [i + " (log-log)" for i in titles], ax):    
    a.set_title(t)
plt.tight_layout()
plt.savefig('Sc vs Cr.jpg', dpi = 300)

# try clustering and test whether the rock groups defined in the tutorial will be reproduced

# K-means clustering (based on Machine learning for Geobiology course homework, 651-​4908-00L, ETH Zurich, 
# instructors: Cara Magnabosco, Andrew Acciardo, Martin Popeski, Piersilvio De Bartolomeis)

# The K-means algorithm is an iterative algorithm that separates the data into K pre-defined clusters, 
# where each data point belongs to only one group. It works by alternating between assigning points 
# to a cluster and computing the cluster centroids. Formally, the K-means algorithm aims to choose 
# centroids that minimise the inertia (within cluster sum-of-squares criterion) 
# $\sum_{i=0}^{n}\min_{\mu_j \in C}(||x_i - \mu_j||^2)$

# One main drawback of this algorithm is the need to specify the number of clusters that we want beforehand. 
# We will introduce a commonly used heuristic in practice for choosing the number of clusters known as the elbow method.

from sklearn.cluster import KMeans

# fitting will be done based on columns with numerical values, so the first 7 columns will be excluded
# data_for_fit = dataset.iloc[:,7:53] # uncomment this line to first try with all the elements
ind_list = [39,45,46,53] # list of element indices: Sc, Th, Zr
data_for_fit = dataset.iloc[:,ind_list] # trying with elements from Sc to Zr
df_for_fit = pd.DataFrame(data=data_for_fit) # convert to dataframe

# remove the NaN and infinite values - error message "Input contains NaN, infinity or a value too large for dtype('float64')" 

df_for_fit.replace([np.inf, -np.inf], np.nan, inplace=True) # first replace all infinite values with Not-A-Number
data_fit = df_for_fit.dropna() # then drop all NAN values; the resulting dataset contains 3475 rows compared to the initial 3830 rows
inertias = []
K = range(1,10)
for k in K:
    Model = KMeans(n_clusters=k).fit(data_fit)
    inertias.append(Model.inertia_)
plt.figure(figsize = (11,11))
fig2 = plt.plot(K,inertias,'x-')
plt.xlabel('K')
plt.ylabel('Inertia')
plt.title('Elbow method')
plt.show()

# I see three elbows! One with 2, another with 4, and another with 6 clusters
# if 6 clusters are used, mafic rocks will be picked up well,
# andesite will be merged with dacite 1, dacite 2 with diorite2,
# diorite 1 will be picked out well, plus there is one cluster that doesn't relate to anything well

# trying with 10 clusters

# Use this plotting function to visualize clustring results through the tutorial

def plot_2d_embedding(matrix,labels): # labels come from the clustering method. 
    # They must start from 0 and they must be integers
    
#perplexity affects how your plot is displayed and is usually a value between [5,50], you may want to play with it. 
    tsne = TSNE(perplexity=10.0,random_state=17) 
    reduced = tsne.fit_transform(matrix)
    
    est = ['.','o','v','^','s','p','*','+','x','h']
    for i in range(len(set(labels))):
      cluster = reduced[labels==i]
      plt.plot(cluster[:,0],cluster[:,1],est[i%10])
    
    plt.title('T-SNE 2d embedding')
    plt.xlabel('x')
    plt.ylabel('y')
    plt.show()

# Plot the clustering results
model = KMeans(n_cluster
               s=10,random_state=17) # here we can change the number of clusters and see what happens
model.fit(data_fit)
plot_2d_embedding(data_fit,model.labels_)

# Now append the cluster number to the dataset
data_fit1 = data_fit.copy()
data_fit1["cluster"] = model.fit_predict(data_fit)

# plot the clusters in coordinates Sc and Th to see if the clustering reproduces the tutorial
plt.figure(figsize = (11,11))

fig3 = sns.scatterplot(x="Th_ppm", y="Sc_ppm", data=data_fit1, palette = "icefire", hue='cluster')
